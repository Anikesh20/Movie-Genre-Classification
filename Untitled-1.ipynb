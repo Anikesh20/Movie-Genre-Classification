{
 "cells": [
  {
   "cell_type": "code",
   "execution_count": 3,
   "metadata": {},
   "outputs": [
    {
     "name": "stderr",
     "output_type": "stream",
     "text": [
      "<>:13: SyntaxWarning: invalid escape sequence '\\s'\n",
      "<>:13: SyntaxWarning: invalid escape sequence '\\s'\n",
      "C:\\Users\\singh\\AppData\\Local\\Temp\\ipykernel_20096\\3116577466.py:13: SyntaxWarning: invalid escape sequence '\\s'\n",
      "  train_data['DESCRIPTION'] = train_data['DESCRIPTION'].str.lower().str.replace('[^a-z\\s]', '')\n"
     ]
    }
   ],
   "source": [
    "import pandas as pd\n",
    "from sklearn.feature_extraction.text import TfidfVectorizer\n",
    "from sklearn.model_selection import train_test_split, cross_val_score\n",
    "from sklearn.naive_bayes import MultinomialNB\n",
    "from sklearn.linear_model import LogisticRegression\n",
    "from sklearn.svm import SVC\n",
    "from sklearn.metrics import classification_report, accuracy_score\n",
    "\n",
    "# Load the training data\n",
    "train_data = pd.read_csv('Genre Classification Dataset/train_data.txt', delimiter=':::', engine='python', names=['ID', 'TITLE', 'GENRE', 'DESCRIPTION'])\n",
    "\n",
    "# Preprocessing\n",
    "train_data['DESCRIPTION'] = train_data['DESCRIPTION'].str.lower().str.replace('[^a-z\\s]', '')\n",
    "train_data.dropna(inplace=True)\n",
    "\n",
    "# Feature extraction using TF-IDF\n",
    "tfidf = TfidfVectorizer(max_features=5000)\n",
    "X = tfidf.fit_transform(train_data['DESCRIPTION'])\n",
    "y = train_data['GENRE']\n"
   ]
  },
  {
   "cell_type": "code",
   "execution_count": 4,
   "metadata": {},
   "outputs": [
    {
     "name": "stdout",
     "output_type": "stream",
     "text": [
      "Naive Bayes Accuracy: 0.5120354145531679\n"
     ]
    },
    {
     "name": "stderr",
     "output_type": "stream",
     "text": [
      "c:\\Users\\singh\\AppData\\Local\\Programs\\Python\\Python312\\Lib\\site-packages\\sklearn\\metrics\\_classification.py:1509: UndefinedMetricWarning: Precision is ill-defined and being set to 0.0 in labels with no predicted samples. Use `zero_division` parameter to control this behavior.\n",
      "  _warn_prf(average, modifier, f\"{metric.capitalize()} is\", len(result))\n",
      "c:\\Users\\singh\\AppData\\Local\\Programs\\Python\\Python312\\Lib\\site-packages\\sklearn\\metrics\\_classification.py:1509: UndefinedMetricWarning: Precision is ill-defined and being set to 0.0 in labels with no predicted samples. Use `zero_division` parameter to control this behavior.\n",
      "  _warn_prf(average, modifier, f\"{metric.capitalize()} is\", len(result))\n",
      "c:\\Users\\singh\\AppData\\Local\\Programs\\Python\\Python312\\Lib\\site-packages\\sklearn\\metrics\\_classification.py:1509: UndefinedMetricWarning: Precision is ill-defined and being set to 0.0 in labels with no predicted samples. Use `zero_division` parameter to control this behavior.\n",
      "  _warn_prf(average, modifier, f\"{metric.capitalize()} is\", len(result))\n"
     ]
    },
    {
     "name": "stdout",
     "output_type": "stream",
     "text": [
      "               precision    recall  f1-score   support\n",
      "\n",
      "      action        0.57      0.05      0.09       263\n",
      "       adult        1.00      0.02      0.04       112\n",
      "   adventure        0.44      0.03      0.05       139\n",
      "   animation        0.00      0.00      0.00       104\n",
      "   biography        0.00      0.00      0.00        61\n",
      "      comedy        0.51      0.40      0.45      1443\n",
      "       crime        0.00      0.00      0.00       107\n",
      " documentary        0.57      0.89      0.69      2659\n",
      "       drama        0.45      0.84      0.58      2697\n",
      "      family        0.00      0.00      0.00       150\n",
      "     fantasy        0.00      0.00      0.00        74\n",
      "   game-show        1.00      0.03      0.05        40\n",
      "     history        0.00      0.00      0.00        45\n",
      "      horror        0.77      0.27      0.40       431\n",
      "       music        0.92      0.08      0.15       144\n",
      "     musical        0.00      0.00      0.00        50\n",
      "     mystery        0.00      0.00      0.00        56\n",
      "        news        0.00      0.00      0.00        34\n",
      "  reality-tv        1.00      0.02      0.03       192\n",
      "     romance        0.00      0.00      0.00       151\n",
      "      sci-fi        1.00      0.01      0.01       143\n",
      "       short        0.66      0.08      0.14      1045\n",
      "       sport        0.70      0.08      0.14        93\n",
      "   talk-show        0.00      0.00      0.00        81\n",
      "    thriller        0.44      0.01      0.03       309\n",
      "         war        0.00      0.00      0.00        20\n",
      "     western        0.99      0.50      0.66       200\n",
      "\n",
      "     accuracy                           0.51     10843\n",
      "    macro avg       0.41      0.12      0.13     10843\n",
      " weighted avg       0.52      0.51      0.42     10843\n",
      "\n",
      "Logistic Regression Accuracy: 0.5902425527990408\n"
     ]
    },
    {
     "name": "stderr",
     "output_type": "stream",
     "text": [
      "c:\\Users\\singh\\AppData\\Local\\Programs\\Python\\Python312\\Lib\\site-packages\\sklearn\\metrics\\_classification.py:1509: UndefinedMetricWarning: Precision is ill-defined and being set to 0.0 in labels with no predicted samples. Use `zero_division` parameter to control this behavior.\n",
      "  _warn_prf(average, modifier, f\"{metric.capitalize()} is\", len(result))\n",
      "c:\\Users\\singh\\AppData\\Local\\Programs\\Python\\Python312\\Lib\\site-packages\\sklearn\\metrics\\_classification.py:1509: UndefinedMetricWarning: Precision is ill-defined and being set to 0.0 in labels with no predicted samples. Use `zero_division` parameter to control this behavior.\n",
      "  _warn_prf(average, modifier, f\"{metric.capitalize()} is\", len(result))\n",
      "c:\\Users\\singh\\AppData\\Local\\Programs\\Python\\Python312\\Lib\\site-packages\\sklearn\\metrics\\_classification.py:1509: UndefinedMetricWarning: Precision is ill-defined and being set to 0.0 in labels with no predicted samples. Use `zero_division` parameter to control this behavior.\n",
      "  _warn_prf(average, modifier, f\"{metric.capitalize()} is\", len(result))\n"
     ]
    },
    {
     "name": "stdout",
     "output_type": "stream",
     "text": [
      "               precision    recall  f1-score   support\n",
      "\n",
      "      action        0.55      0.28      0.37       263\n",
      "       adult        0.86      0.22      0.35       112\n",
      "   adventure        0.35      0.11      0.16       139\n",
      "   animation        0.64      0.07      0.12       104\n",
      "   biography        0.00      0.00      0.00        61\n",
      "      comedy        0.53      0.60      0.56      1443\n",
      "       crime        0.20      0.01      0.02       107\n",
      " documentary        0.67      0.86      0.76      2659\n",
      "       drama        0.55      0.79      0.65      2697\n",
      "      family        0.42      0.09      0.14       150\n",
      "     fantasy        0.00      0.00      0.00        74\n",
      "   game-show        1.00      0.42      0.60        40\n",
      "     history        0.00      0.00      0.00        45\n",
      "      horror        0.64      0.57      0.60       431\n",
      "       music        0.63      0.48      0.54       144\n",
      "     musical        0.50      0.02      0.04        50\n",
      "     mystery        1.00      0.02      0.04        56\n",
      "        news        1.00      0.03      0.06        34\n",
      "  reality-tv        0.51      0.24      0.33       192\n",
      "     romance        0.14      0.01      0.01       151\n",
      "      sci-fi        0.58      0.24      0.34       143\n",
      "       short        0.50      0.34      0.40      1045\n",
      "       sport        0.66      0.20      0.31        93\n",
      "   talk-show        0.57      0.15      0.24        81\n",
      "    thriller        0.43      0.15      0.22       309\n",
      "         war        0.00      0.00      0.00        20\n",
      "     western        0.94      0.69      0.79       200\n",
      "\n",
      "     accuracy                           0.59     10843\n",
      "    macro avg       0.51      0.24      0.28     10843\n",
      " weighted avg       0.57      0.59      0.55     10843\n",
      "\n",
      "SVM Accuracy: 0.5832334224845522\n"
     ]
    },
    {
     "name": "stderr",
     "output_type": "stream",
     "text": [
      "c:\\Users\\singh\\AppData\\Local\\Programs\\Python\\Python312\\Lib\\site-packages\\sklearn\\metrics\\_classification.py:1509: UndefinedMetricWarning: Precision is ill-defined and being set to 0.0 in labels with no predicted samples. Use `zero_division` parameter to control this behavior.\n",
      "  _warn_prf(average, modifier, f\"{metric.capitalize()} is\", len(result))\n",
      "c:\\Users\\singh\\AppData\\Local\\Programs\\Python\\Python312\\Lib\\site-packages\\sklearn\\metrics\\_classification.py:1509: UndefinedMetricWarning: Precision is ill-defined and being set to 0.0 in labels with no predicted samples. Use `zero_division` parameter to control this behavior.\n",
      "  _warn_prf(average, modifier, f\"{metric.capitalize()} is\", len(result))\n",
      "c:\\Users\\singh\\AppData\\Local\\Programs\\Python\\Python312\\Lib\\site-packages\\sklearn\\metrics\\_classification.py:1509: UndefinedMetricWarning: Precision is ill-defined and being set to 0.0 in labels with no predicted samples. Use `zero_division` parameter to control this behavior.\n",
      "  _warn_prf(average, modifier, f\"{metric.capitalize()} is\", len(result))\n"
     ]
    },
    {
     "name": "stdout",
     "output_type": "stream",
     "text": [
      "               precision    recall  f1-score   support\n",
      "\n",
      "      action        0.55      0.22      0.32       263\n",
      "       adult        0.74      0.21      0.32       112\n",
      "   adventure        0.31      0.07      0.12       139\n",
      "   animation        0.50      0.03      0.05       104\n",
      "   biography        0.00      0.00      0.00        61\n",
      "      comedy        0.52      0.58      0.55      1443\n",
      "       crime        0.00      0.00      0.00       107\n",
      " documentary        0.65      0.88      0.75      2659\n",
      "       drama        0.53      0.80      0.64      2697\n",
      "      family        0.62      0.07      0.12       150\n",
      "     fantasy        0.00      0.00      0.00        74\n",
      "   game-show        1.00      0.42      0.60        40\n",
      "     history        0.00      0.00      0.00        45\n",
      "      horror        0.67      0.56      0.61       431\n",
      "       music        0.67      0.41      0.51       144\n",
      "     musical        0.00      0.00      0.00        50\n",
      "     mystery        0.00      0.00      0.00        56\n",
      "        news        1.00      0.03      0.06        34\n",
      "  reality-tv        0.62      0.19      0.29       192\n",
      "     romance        0.00      0.00      0.00       151\n",
      "      sci-fi        0.60      0.23      0.33       143\n",
      "       short        0.57      0.29      0.38      1045\n",
      "       sport        0.79      0.16      0.27        93\n",
      "   talk-show        0.60      0.11      0.19        81\n",
      "    thriller        0.55      0.10      0.16       309\n",
      "         war        1.00      0.05      0.10        20\n",
      "     western        0.94      0.67      0.78       200\n",
      "\n",
      "     accuracy                           0.58     10843\n",
      "    macro avg       0.50      0.23      0.26     10843\n",
      " weighted avg       0.56      0.58      0.53     10843\n",
      "\n"
     ]
    }
   ],
   "source": [
    "# Split the data into training and validation sets\n",
    "X_train, X_val, y_train, y_val = train_test_split(X, y, test_size=0.2, random_state=42)\n",
    "\n",
    "# Define models to train\n",
    "models = {\n",
    "    'Naive Bayes': MultinomialNB(),\n",
    "    'Logistic Regression': LogisticRegression(max_iter=200),\n",
    "    'SVM': SVC()\n",
    "}\n",
    "\n",
    "# Train and evaluate each model\n",
    "for name, model in models.items():\n",
    "    model.fit(X_train, y_train)\n",
    "    predictions = model.predict(X_val)\n",
    "    print(f\"{name} Accuracy: {accuracy_score(y_val, predictions)}\")\n",
    "    print(classification_report(y_val, predictions))\n"
   ]
  },
  {
   "cell_type": "code",
   "execution_count": 5,
   "metadata": {},
   "outputs": [
    {
     "name": "stderr",
     "output_type": "stream",
     "text": [
      "<>:8: SyntaxWarning: invalid escape sequence '\\s'\n",
      "<>:8: SyntaxWarning: invalid escape sequence '\\s'\n",
      "C:\\Users\\singh\\AppData\\Local\\Temp\\ipykernel_20096\\4031852654.py:8: SyntaxWarning: invalid escape sequence '\\s'\n",
      "  test_data['DESCRIPTION'] = test_data['DESCRIPTION'].str.lower().str.replace('[^a-z\\s]', '')\n"
     ]
    }
   ],
   "source": [
    "# Assuming Logistic Regression performed the best\n",
    "best_model = models['Logistic Regression']\n",
    "\n",
    "# Load the test data\n",
    "test_data = pd.read_csv('Genre Classification Dataset/test_data.txt', delimiter=':::', engine='python', names=['ID', 'TITLE', 'DESCRIPTION'])\n",
    "\n",
    "# Preprocess the test data\n",
    "test_data['DESCRIPTION'] = test_data['DESCRIPTION'].str.lower().str.replace('[^a-z\\s]', '')\n",
    "\n",
    "# Transform the test data using the same TF-IDF vectorizer\n",
    "X_test = tfidf.transform(test_data['DESCRIPTION'])\n",
    "\n",
    "# Predict genres for the test data\n",
    "test_predictions = best_model.predict(X_test)\n",
    "\n",
    "# Save the predictions\n",
    "test_data['PREDICTED_GENRE'] = test_predictions\n",
    "test_data[['ID', 'TITLE', 'PREDICTED_GENRE']].to_csv('predicted_genres.csv', index=False)\n"
   ]
  }
 ],
 "metadata": {
  "kernelspec": {
   "display_name": "Python 3",
   "language": "python",
   "name": "python3"
  },
  "language_info": {
   "codemirror_mode": {
    "name": "ipython",
    "version": 3
   },
   "file_extension": ".py",
   "mimetype": "text/x-python",
   "name": "python",
   "nbconvert_exporter": "python",
   "pygments_lexer": "ipython3",
   "version": "3.12.5"
  }
 },
 "nbformat": 4,
 "nbformat_minor": 2
}
