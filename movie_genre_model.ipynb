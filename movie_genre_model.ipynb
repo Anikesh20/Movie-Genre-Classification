{
 "cells": [
  {
   "cell_type": "code",
   "execution_count": 2,
   "metadata": {},
   "outputs": [],
   "source": [
    "import pandas as pd\n",
    "import re\n",
    "from sklearn.feature_extraction.text import TfidfVectorizer\n",
    "from sklearn.model_selection import train_test_split, GridSearchCV\n",
    "from sklearn.naive_bayes import MultinomialNB\n",
    "from sklearn.linear_model import LogisticRegression\n",
    "from sklearn.svm import SVC\n",
    "from sklearn.metrics import accuracy_score, classification_report\n",
    "import joblib\n",
    "\n",
    "train_data_path = 'E:/BCA/PROJECT/Task 1/Genre Classification Dataset/train_data.txt'\n",
    "test_data_solution_path = 'E:/BCA/PROJECT/Task 1/Genre Classification Dataset/test_data_solution.txt'\n",
    "test_data_path = 'E:/BCA/PROJECT/Task 1/Genre Classification Dataset/test_data.txt'\n",
    "\n",
    "\n",
    "train_data = pd.read_csv(train_data_path, delimiter=':::', engine='python', names=['ID', 'TITLE', 'GENRE', 'DESCRIPTION'])\n",
    "test_data_solution = pd.read_csv(test_data_solution_path, delimiter=':::', engine='python', names=['ID', 'TITLE', 'GENRE', 'DESCRIPTION'])\n",
    "test_data = pd.read_csv(test_data_path, delimiter=':::', engine='python', names=['ID', 'TITLE', 'DESCRIPTION'])\n"
   ]
  },
  {
   "cell_type": "code",
   "execution_count": 3,
   "metadata": {},
   "outputs": [],
   "source": [
    "\n",
    "def preprocess_text(text):\n",
    "    text = text.lower()  # Convert to lowercase\n",
    "    text = re.sub(r'[^a-z\\s]', '', text)  # Remove special characters\n",
    "    return text\n",
    "\n",
    "\n",
    "train_data['DESCRIPTION'] = train_data['DESCRIPTION'].apply(preprocess_text)\n",
    "test_data_solution['DESCRIPTION'] = test_data_solution['DESCRIPTION'].apply(preprocess_text)\n",
    "test_data['DESCRIPTION'] = test_data['DESCRIPTION'].apply(preprocess_text)\n",
    "\n",
    "train_data.dropna(inplace=True)\n",
    "test_data_solution.dropna(inplace=True)\n"
   ]
  },
  {
   "cell_type": "code",
   "execution_count": 4,
   "metadata": {},
   "outputs": [],
   "source": [
    "\n",
    "combined_data = pd.concat([train_data['DESCRIPTION'], test_data_solution['DESCRIPTION']])\n",
    "tfidf = TfidfVectorizer(max_features=5000)\n",
    "tfidf.fit(combined_data)\n",
    "\n",
    "X_train = tfidf.transform(train_data['DESCRIPTION'])\n",
    "y_train = train_data['GENRE']\n",
    "\n",
    "X_test = tfidf.transform(test_data_solution['DESCRIPTION'])\n",
    "y_test = test_data_solution['GENRE']\n"
   ]
  },
  {
   "cell_type": "code",
   "execution_count": 5,
   "metadata": {},
   "outputs": [
    {
     "name": "stdout",
     "output_type": "stream",
     "text": [
      "Naive Bayes Accuracy: 0.5271771217712177\n"
     ]
    },
    {
     "name": "stderr",
     "output_type": "stream",
     "text": [
      "c:\\Users\\singh\\AppData\\Local\\Programs\\Python\\Python312\\Lib\\site-packages\\sklearn\\metrics\\_classification.py:1509: UndefinedMetricWarning: Precision is ill-defined and being set to 0.0 in labels with no predicted samples. Use `zero_division` parameter to control this behavior.\n",
      "  _warn_prf(average, modifier, f\"{metric.capitalize()} is\", len(result))\n",
      "c:\\Users\\singh\\AppData\\Local\\Programs\\Python\\Python312\\Lib\\site-packages\\sklearn\\metrics\\_classification.py:1509: UndefinedMetricWarning: Precision is ill-defined and being set to 0.0 in labels with no predicted samples. Use `zero_division` parameter to control this behavior.\n",
      "  _warn_prf(average, modifier, f\"{metric.capitalize()} is\", len(result))\n",
      "c:\\Users\\singh\\AppData\\Local\\Programs\\Python\\Python312\\Lib\\site-packages\\sklearn\\metrics\\_classification.py:1509: UndefinedMetricWarning: Precision is ill-defined and being set to 0.0 in labels with no predicted samples. Use `zero_division` parameter to control this behavior.\n",
      "  _warn_prf(average, modifier, f\"{metric.capitalize()} is\", len(result))\n"
     ]
    },
    {
     "name": "stdout",
     "output_type": "stream",
     "text": [
      "               precision    recall  f1-score   support\n",
      "\n",
      "      action        0.56      0.13      0.22      1314\n",
      "       adult        0.48      0.08      0.13       590\n",
      "   adventure        0.76      0.07      0.13       775\n",
      "   animation        1.00      0.00      0.00       498\n",
      "   biography        0.00      0.00      0.00       264\n",
      "      comedy        0.53      0.42      0.47      7446\n",
      "       crime        0.00      0.00      0.00       505\n",
      " documentary        0.57      0.88      0.69     13096\n",
      "       drama        0.46      0.82      0.59     13612\n",
      "      family        0.71      0.01      0.01       783\n",
      "     fantasy        0.00      0.00      0.00       322\n",
      "   game-show        0.97      0.36      0.52       193\n",
      "     history        0.00      0.00      0.00       243\n",
      "      horror        0.70      0.35      0.47      2204\n",
      "       music        0.69      0.27      0.39       731\n",
      "     musical        0.00      0.00      0.00       276\n",
      "     mystery        0.00      0.00      0.00       318\n",
      "        news        0.00      0.00      0.00       181\n",
      "  reality-tv        0.51      0.05      0.09       883\n",
      "     romance        0.00      0.00      0.00       672\n",
      "      sci-fi        0.64      0.07      0.13       646\n",
      "       short        0.57      0.11      0.19      5072\n",
      "       sport        0.77      0.15      0.25       431\n",
      "   talk-show        0.55      0.02      0.03       391\n",
      "    thriller        0.35      0.02      0.04      1590\n",
      "         war        0.00      0.00      0.00       132\n",
      "     western        0.93      0.64      0.76      1032\n",
      "\n",
      "     accuracy                           0.53     54200\n",
      "    macro avg       0.44      0.16      0.19     54200\n",
      " weighted avg       0.52      0.53      0.45     54200\n",
      "\n"
     ]
    },
    {
     "name": "stderr",
     "output_type": "stream",
     "text": [
      "c:\\Users\\singh\\AppData\\Local\\Programs\\Python\\Python312\\Lib\\site-packages\\sklearn\\linear_model\\_logistic.py:469: ConvergenceWarning: lbfgs failed to converge (status=1):\n",
      "STOP: TOTAL NO. of ITERATIONS REACHED LIMIT.\n",
      "\n",
      "Increase the number of iterations (max_iter) or scale the data as shown in:\n",
      "    https://scikit-learn.org/stable/modules/preprocessing.html\n",
      "Please also refer to the documentation for alternative solver options:\n",
      "    https://scikit-learn.org/stable/modules/linear_model.html#logistic-regression\n",
      "  n_iter_i = _check_optimize_result(\n"
     ]
    },
    {
     "name": "stdout",
     "output_type": "stream",
     "text": [
      "Logistic Regression Accuracy: 0.5884317343173432\n"
     ]
    },
    {
     "name": "stderr",
     "output_type": "stream",
     "text": [
      "c:\\Users\\singh\\AppData\\Local\\Programs\\Python\\Python312\\Lib\\site-packages\\sklearn\\metrics\\_classification.py:1509: UndefinedMetricWarning: Precision is ill-defined and being set to 0.0 in labels with no predicted samples. Use `zero_division` parameter to control this behavior.\n",
      "  _warn_prf(average, modifier, f\"{metric.capitalize()} is\", len(result))\n",
      "c:\\Users\\singh\\AppData\\Local\\Programs\\Python\\Python312\\Lib\\site-packages\\sklearn\\metrics\\_classification.py:1509: UndefinedMetricWarning: Precision is ill-defined and being set to 0.0 in labels with no predicted samples. Use `zero_division` parameter to control this behavior.\n",
      "  _warn_prf(average, modifier, f\"{metric.capitalize()} is\", len(result))\n"
     ]
    },
    {
     "name": "stdout",
     "output_type": "stream",
     "text": [
      "               precision    recall  f1-score   support\n",
      "\n",
      "      action        0.47      0.28      0.35      1314\n",
      "       adult        0.60      0.23      0.33       590\n",
      "   adventure        0.59      0.15      0.25       775\n",
      "   animation        0.58      0.06      0.10       498\n",
      "   biography        0.00      0.00      0.00       264\n",
      "      comedy        0.53      0.59      0.56      7446\n",
      "       crime        0.38      0.03      0.05       505\n",
      " documentary        0.68      0.86      0.76     13096\n",
      "       drama        0.55      0.77      0.64     13612\n",
      "      family        0.48      0.08      0.13       783\n",
      "     fantasy        0.65      0.03      0.06       322\n",
      "   game-show        0.88      0.50      0.64       193\n",
      "     history        0.00      0.00      0.00       243\n",
      "      horror        0.64      0.57      0.60      2204\n",
      "       music        0.66      0.46      0.54       731\n",
      "     musical        0.25      0.02      0.03       276\n",
      "     mystery        0.25      0.00      0.01       318\n",
      "        news        0.73      0.06      0.11       181\n",
      "  reality-tv        0.50      0.23      0.31       883\n",
      "     romance        0.40      0.03      0.05       672\n",
      "      sci-fi        0.57      0.25      0.35       646\n",
      "       short        0.48      0.34      0.40      5072\n",
      "       sport        0.67      0.28      0.39       431\n",
      "   talk-show        0.60      0.19      0.29       391\n",
      "    thriller        0.40      0.13      0.20      1590\n",
      "         war        0.67      0.02      0.03       132\n",
      "     western        0.90      0.72      0.80      1032\n",
      "\n",
      "     accuracy                           0.59     54200\n",
      "    macro avg       0.52      0.25      0.30     54200\n",
      " weighted avg       0.57      0.59      0.55     54200\n",
      "\n",
      "Best Model: LogisticRegression(C=1, max_iter=200)\n",
      "Best Accuracy: 0.5884317343173432\n"
     ]
    },
    {
     "name": "stderr",
     "output_type": "stream",
     "text": [
      "c:\\Users\\singh\\AppData\\Local\\Programs\\Python\\Python312\\Lib\\site-packages\\sklearn\\metrics\\_classification.py:1509: UndefinedMetricWarning: Precision is ill-defined and being set to 0.0 in labels with no predicted samples. Use `zero_division` parameter to control this behavior.\n",
      "  _warn_prf(average, modifier, f\"{metric.capitalize()} is\", len(result))\n"
     ]
    }
   ],
   "source": [
    "# Define models and parameters for GridSearchCV\n",
    "models = {\n",
    "    'Naive Bayes': {\n",
    "        'model': MultinomialNB(),\n",
    "        'params': {\n",
    "            'alpha': [0.5, 1.0, 1.5, 2.0]\n",
    "        }\n",
    "    },\n",
    "    'Logistic Regression': {\n",
    "        'model': LogisticRegression(max_iter=200),\n",
    "        'params': {\n",
    "            'C': [0.1, 1, 10, 100],\n",
    "            'solver': ['liblinear', 'lbfgs']\n",
    "        }\n",
    "    }\n",
    "}\n",
    "\n",
    "best_model = None\n",
    "best_accuracy = 0\n",
    "\n",
    "for name, model_info in models.items():\n",
    "    grid = GridSearchCV(model_info['model'], model_info['params'], cv=5, n_jobs=-1)\n",
    "    grid.fit(X_train, y_train)\n",
    "    \n",
    "    predictions = grid.predict(X_test)\n",
    "    accuracy = accuracy_score(y_test, predictions)\n",
    "    print(f\"{name} Accuracy: {accuracy}\")\n",
    "    print(classification_report(y_test, predictions))\n",
    "    \n",
    "    if accuracy > best_accuracy:\n",
    "        best_model = grid.best_estimator_\n",
    "        best_accuracy = accuracy\n",
    "\n",
    "print(f\"Best Model: {best_model}\")\n",
    "print(f\"Best Accuracy: {best_accuracy}\")\n"
   ]
  },
  {
   "cell_type": "code",
   "execution_count": 6,
   "metadata": {},
   "outputs": [],
   "source": [
    "\n",
    "X_test_final = tfidf.transform(test_data['DESCRIPTION'])\n",
    "predicted_genres = best_model.predict(X_test_final)\n",
    "\n",
    "joblib.dump(best_model, 'best_genre_model.joblib')\n",
    "joblib.dump(tfidf, 'tfidf_vectorizer.joblib')\n",
    "\n",
    "test_data['PREDICTED_GENRE'] = predicted_genres\n",
    "test_data[['ID', 'TITLE', 'PREDICTED_GENRE']].to_csv('predicted_genres.csv', index=False)\n"
   ]
  }
 ],
 "metadata": {
  "kernelspec": {
   "display_name": "Python 3",
   "language": "python",
   "name": "python3"
  },
  "language_info": {
   "codemirror_mode": {
    "name": "ipython",
    "version": 3
   },
   "file_extension": ".py",
   "mimetype": "text/x-python",
   "name": "python",
   "nbconvert_exporter": "python",
   "pygments_lexer": "ipython3",
   "version": "3.12.5"
  }
 },
 "nbformat": 4,
 "nbformat_minor": 2
}
